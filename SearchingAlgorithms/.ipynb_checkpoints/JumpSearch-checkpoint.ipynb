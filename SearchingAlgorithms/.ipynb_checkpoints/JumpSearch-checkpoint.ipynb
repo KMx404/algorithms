{
 "cells": [
  {
   "cell_type": "code",
   "execution_count": 1,
   "metadata": {},
   "outputs": [],
   "source": [
    "#! /usr/bin/env python3 "
   ]
  },
  {
   "cell_type": "code",
   "execution_count": 2,
   "metadata": {},
   "outputs": [],
   "source": [
    "Comment = \"\"\"\n",
    "JumpSearch, its basically an algorithm for sorted lists, arrays. The basic idea is to start from index0 and jump \n",
    "per a specific numb each time. Meaning we can jump per 4 indexes, starting from 0 to 4 and then from 4 to 8 like that.\n",
    "each time we jump forward we compare the key element with current index if its higher we need to move along, if its lower \n",
    "we backdown per step at a time. \n",
    "\"\"\""
   ]
  },
  {
   "cell_type": "code",
   "execution_count": 3,
   "metadata": {},
   "outputs": [
    {
     "name": "stdout",
     "output_type": "stream",
     "text": [
      "Number 55 is at index 10\n"
     ]
    }
   ],
   "source": [
    "\n",
    "#! /usr/bin/env python3 \n",
    "\n",
    "# importing\n",
    "import math \n",
    "  \n",
    "def jumpSearch( arr , x , n ): \n",
    "      \n",
    "    # Finding block size to be jumped \n",
    "    step = math.sqrt(n) \n",
    "      \n",
    "    # Finding the block where element is \n",
    "    # present (if it is present) \n",
    "    prev = 0\n",
    "    while arr[int(min(step, n)-1)] < x: \n",
    "        prev = step \n",
    "        step += math.sqrt(n) \n",
    "        if prev >= n: \n",
    "            return -1\n",
    "      \n",
    "    # Doing a linear search for x in  \n",
    "    # block beginning with prev. \n",
    "    while arr[int(prev)] < x: \n",
    "        prev += 1\n",
    "        if prev == min(step, n): \n",
    "            return -1\n",
    "      \n",
    "    # If element is found \n",
    "    if arr[int(prev)] == x: \n",
    "        return prev \n",
    "      \n",
    "    return -1\n",
    "  \n",
    "# Driver code to test function \n",
    "arr = [ 0, 1, 1, 2, 3, 5, 8, 13, 21, \n",
    "    34, 55, 89, 144, 233, 377, 610 ] \n",
    "x = 55\n",
    "n = len(arr) \n",
    "  \n",
    "# Find the index of 'x' using Jump Search \n",
    "index = jumpSearch(arr, x, n) \n",
    "  \n",
    "# Print the index where 'x' is located \n",
    "print(\"Number\" , x, \"is at index\" ,\"%.0f\"%index) \n",
    "  \n",
    "# This code is contributed by \"Sharad_Bhardwaj\". \n"
   ]
  },
  {
   "cell_type": "code",
   "execution_count": null,
   "metadata": {},
   "outputs": [],
   "source": []
  }
 ],
 "metadata": {
  "kernelspec": {
   "display_name": "Python 3",
   "language": "python",
   "name": "python3"
  },
  "language_info": {
   "codemirror_mode": {
    "name": "ipython",
    "version": 3
   },
   "file_extension": ".py",
   "mimetype": "text/x-python",
   "name": "python",
   "nbconvert_exporter": "python",
   "pygments_lexer": "ipython3",
   "version": "3.8.2"
  }
 },
 "nbformat": 4,
 "nbformat_minor": 4
}
